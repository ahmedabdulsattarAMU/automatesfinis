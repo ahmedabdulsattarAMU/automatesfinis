{
 "cells": [
  {
   "cell_type": "markdown",
   "metadata": {
    "id": "tm7J027xlF-e"
   },
   "source": [
    "# Automates finis - TP 1 \n",
    "\n",
    "### Objectif du TP\n",
    "\n",
    "L'objectif de ce premier TP est d'implémenter un programme avec deux arguments: un fichier `.txt` contenant la description d'un automate fini _A_ et un mot _m_ à reconnaître. Votre programme doit (a) lire/charger l'automate _A_ à partir du fichier `.txt`, (b) afficher _ERROR_ si l'automate est non déterministe, ou (c) si, au contraire, l'automate est déterministe, afficher _YES_ si le mot peut être reconnu par l'automate, ou _NO_ si le mot ne peut pas être reconnu par l'automate."
   ]
  },
  {
   "cell_type": "markdown",
   "metadata": {
    "id": "uKx7OCiolF-0"
   },
   "source": [
    "## Comment travailler\n",
    "\n",
    "Les énoncés des TPs d'automates finis vous sont fournis en deux formats: en [PDF](https://github.com/ceramisch/automatesfinis/raw/main/Automates_TP1.pdf) et sous la forme de [notebook Jupyter](https://github.com/ceramisch/automatesfinis/blob/main/Automates_TP1.ipynb) `.ipynb`, avec du code python intégré. Ce dernier vous permet de tester des bouts de code python tout de suite, directement pendant que vous lisez l'énoncé. Cependant, il requiert de pouvoir exécuter des notebook Jupyter. On vous propose deux alternatives :\n",
    "\n",
    "1.   Télécharger python 3, pip et jupyter notebook (ou conda) dans un systeme Linux ou Mac: [https://jupyter.org/install](https://jupyter.org/install)\n",
    "\n",
    "2.   Charger les notebooks directement sur Binder: [https://mybinder.org/v2/gh/ceramisch/automatesfinis/HEAD?filepath=Automates_TP1.ipynb](https://mybinder.org/v2/gh/ceramisch/automatesfinis/HEAD?filepath=Automates_TP1.ipynb)\n",
    "   \n",
    "Les deux formats, `.pdf` et `.ipynb` sont identiques, vous pouvez choisir ce qui vous convient.\n",
    "\n",
    "Une fois que vous aurez lu l'énoncé, vous devrez écrire un programme pour répondre à l'objectif. Vous ne devez pas programmer sur les notebook Jupyter directement, mais dans votre propre environnement de programmation. Le langage de programmation à utiliser est libre. Cependant, il est recommandé d'utiliser du python car nous vous fournissons une bibliothèque de base (cf. ci-dessous). De plus, cette bibliothèque est intégrée avec les énoncés au format notebook Jupyter, et peut afficher des automates sous forme graphique.\n",
    "\n",
    "Pour programmer, utilisez l'environnement que vous préférez. Vous pouvez utiliser une IDE installée, telle que intelliJ, eclipse, pycharm ou autre. Vous pouvez utiliser un simple éditeur de texte comme atom, SublimeText, geany ou Notepad++. Vous pouvez utiliser l'environnement de programmation 100% en ligne [repl.it]. Ce dernier a l'avantage d'installer pour vous les dépendances nécessaires (p.ex. la bibliothèque `graphviz` python).\n",
    "\n",
    "Les TP sont incrémentaux : on a besoin du TP1 pour faire le TP2, etc... Au final, les TP auront la forme d'un mini-projet. Votre projet sera capable de lire une expression régulière et reconnaître si un mot quelconque peut être reconnu par cette expression. Prenez un moment maintenant pour préparer votre environnement de travail. Nous vous conseillons de créer un dépôt de contrôle de version `git` pour ce mini-projet, par exemple sur [github.com](https://github.com) ou [gitlab.com](https://gitlab.com). Alternativement, créez une dossier Dropbox, Google Drive ou AMUBox synchronisé pour sauvegarder. Si vous n'arrivez pas à finir le TP pendant le créneau de TP, il faudra finir en dehors, avant le prochain TP, pour éviter de prendre du retard.\n",
    "\n",
    "Pour les affichages graphiques ci-dessous, vous devez installer l'outil `graphviz` et la bibliothèque python correspondante. Sur [repl.it](https://repl.it) et Google Colab cela se fait automatiquement. Cependant, si vous êtes en local, vous devez installer:\n",
    "```bash\n",
    "sudo apt install graphviz\n",
    "pip3 install graphviz\n",
    "```"
   ]
  },
  {
   "cell_type": "markdown",
   "metadata": {
    "id": "lEi3yB9elF-3"
   },
   "source": [
    "## Format de fichier `.txt`\n",
    "\n",
    "Un automate décrit dans un fichier `.txt` (UTF-8) consiste en une suite de lignes terminées par `\\n` (CR), où chaque ligne est un triplet, sauf la dernière. Les éléments du triplet sont séparés par des espaces. Le triplet `X Y a` correspond à une transition entre un état source `X` et un état cible `Y` étiquetée par le symbole `a`. Par convention, il est recommandé de représenter les états `X` et `Y` avec des nombres, et les symboles `a` avec des lettres majuscules ou minuscules non-accentuées. Le symbole spécial `%` est utilisé pour les transition-ε des automates non-déterministes.  Le premier état source de la première transition est considéré comme l'état initial de l'automate. La dernière ligne est toujours précédée de la lettre majuscule `A` indiquant les états d'acceptation. Ensuite, les états d'acceptation sont listés, séparés par des espaces.\n",
    "\n",
    "Voici un exemple d'automate déterministe décrit dans un fichier. Cet automate reconnait _a\\*b\\*_. Pour vous en convaincre, dessinez-le sur une feuille:"
   ]
  },
  {
   "cell_type": "code",
   "execution_count": 3,
   "metadata": {
    "id": "Gxg9RdhclF-9"
   },
   "outputs": [
    {
     "name": "stdout",
     "output_type": "stream",
     "text": [
      "0 a 1\n",
      "0 b 2\n",
      "1 a 1\n",
      "2 b 2\n",
      "A 0 1 2\n",
      "abc\n"
     ]
    }
   ],
   "source": [
    "source = \"\"\"0 a 1\n",
    "0 b 2\n",
    "1 a 1\n",
    "2 b 2\n",
    "A 0 1 2\n",
    "\"\"\"\n",
    "print(source+\"abc\")"
   ]
  },
  {
   "cell_type": "markdown",
   "metadata": {
    "id": "RnT0JPsFlF_L"
   },
   "source": [
    "## Bibliothèque `automaton.py` fournie\n",
    "\n",
    "Nous vous fournissons une bibliothèque python `automaton.py` avec les fonctionnalités suivantes:\n",
    "*   Création et manipulation d'un objet `Automaton` qui représente un automate fini \n",
    "*   Lecture et écriture à partir d'un fichier textuel\n",
    "*   Affichage graphique à l'aide de `graphviz`\n",
    "\n",
    "Si vous décidez de l'utiliser, cela peut vous faire gagner du temps. Cependant, vous devez bien comprendre le fonctionnement de cette bibliothèque. Les prochaines sections vous permettent de l'essayer. Si vous préférez ne pas utiliser la bibliothèque, allez directement à la dernière section [Travail à effectuer](#Travail-à-effectuer).\n",
    "Si vous êtes à l'aise en python, vous pouvez ouvrir le code de la bibliothèque et le modifier comme bon vous semble. Vous pouvez aussi n'utiliser qu'une partie des fonctionnalités fournies.\n",
    "\n",
    "Pour commencer, vous devez importer la bibliothèque fournie `automaton.py`, qui doit être placée dans le même dossier où se trouve votre script/programme source. Ensuite, vous pouvez créer un nouvel automate et lui donner un nom. Cet automate, pour le moment, sera vide (vérifiez en exécutant le code ci-dessous):"
   ]
  },
  {
   "cell_type": "code",
   "execution_count": 4,
   "metadata": {
    "id": "AxNHmu1AlF_M",
    "scrolled": true
   },
   "outputs": [
    {
     "ename": "ExecutableNotFound",
     "evalue": "failed to execute ['dot', '-Tsvg'], make sure the Graphviz executables are on your systems' PATH",
     "output_type": "error",
     "traceback": [
      "\u001B[1;31m---------------------------------------------------------------------------\u001B[0m",
      "\u001B[1;31mFileNotFoundError\u001B[0m                         Traceback (most recent call last)",
      "\u001B[1;32mc:\\program files (x86)\\python38-32\\lib\\site-packages\\graphviz\\backend.py\u001B[0m in \u001B[0;36mrun\u001B[1;34m(cmd, input, capture_output, check, encoding, quiet, **kwargs)\u001B[0m\n\u001B[0;32m    163\u001B[0m     \u001B[1;32mtry\u001B[0m\u001B[1;33m:\u001B[0m\u001B[1;33m\u001B[0m\u001B[1;33m\u001B[0m\u001B[0m\n\u001B[1;32m--> 164\u001B[1;33m         \u001B[0mproc\u001B[0m \u001B[1;33m=\u001B[0m \u001B[0msubprocess\u001B[0m\u001B[1;33m.\u001B[0m\u001B[0mPopen\u001B[0m\u001B[1;33m(\u001B[0m\u001B[0mcmd\u001B[0m\u001B[1;33m,\u001B[0m \u001B[0mstartupinfo\u001B[0m\u001B[1;33m=\u001B[0m\u001B[0mget_startupinfo\u001B[0m\u001B[1;33m(\u001B[0m\u001B[1;33m)\u001B[0m\u001B[1;33m,\u001B[0m \u001B[1;33m**\u001B[0m\u001B[0mkwargs\u001B[0m\u001B[1;33m)\u001B[0m\u001B[1;33m\u001B[0m\u001B[1;33m\u001B[0m\u001B[0m\n\u001B[0m\u001B[0;32m    165\u001B[0m     \u001B[1;32mexcept\u001B[0m \u001B[0mOSError\u001B[0m \u001B[1;32mas\u001B[0m \u001B[0me\u001B[0m\u001B[1;33m:\u001B[0m\u001B[1;33m\u001B[0m\u001B[1;33m\u001B[0m\u001B[0m\n",
      "\u001B[1;32mc:\\program files (x86)\\python38-32\\lib\\subprocess.py\u001B[0m in \u001B[0;36m__init__\u001B[1;34m(self, args, bufsize, executable, stdin, stdout, stderr, preexec_fn, close_fds, shell, cwd, env, universal_newlines, startupinfo, creationflags, restore_signals, start_new_session, pass_fds, encoding, errors, text)\u001B[0m\n\u001B[0;32m    853\u001B[0m \u001B[1;33m\u001B[0m\u001B[0m\n\u001B[1;32m--> 854\u001B[1;33m             self._execute_child(args, executable, preexec_fn, close_fds,\n\u001B[0m\u001B[0;32m    855\u001B[0m                                 \u001B[0mpass_fds\u001B[0m\u001B[1;33m,\u001B[0m \u001B[0mcwd\u001B[0m\u001B[1;33m,\u001B[0m \u001B[0menv\u001B[0m\u001B[1;33m,\u001B[0m\u001B[1;33m\u001B[0m\u001B[1;33m\u001B[0m\u001B[0m\n",
      "\u001B[1;32mc:\\program files (x86)\\python38-32\\lib\\subprocess.py\u001B[0m in \u001B[0;36m_execute_child\u001B[1;34m(self, args, executable, preexec_fn, close_fds, pass_fds, cwd, env, startupinfo, creationflags, shell, p2cread, p2cwrite, c2pread, c2pwrite, errread, errwrite, unused_restore_signals, unused_start_new_session)\u001B[0m\n\u001B[0;32m   1306\u001B[0m             \u001B[1;32mtry\u001B[0m\u001B[1;33m:\u001B[0m\u001B[1;33m\u001B[0m\u001B[1;33m\u001B[0m\u001B[0m\n\u001B[1;32m-> 1307\u001B[1;33m                 hp, ht, pid, tid = _winapi.CreateProcess(executable, args,\n\u001B[0m\u001B[0;32m   1308\u001B[0m                                          \u001B[1;31m# no special security\u001B[0m\u001B[1;33m\u001B[0m\u001B[1;33m\u001B[0m\u001B[1;33m\u001B[0m\u001B[0m\n",
      "\u001B[1;31mFileNotFoundError\u001B[0m: [WinError 2] The system cannot find the file specified",
      "\nDuring handling of the above exception, another exception occurred:\n",
      "\u001B[1;31mExecutableNotFound\u001B[0m                        Traceback (most recent call last)",
      "\u001B[1;32mc:\\program files (x86)\\python38-32\\lib\\site-packages\\IPython\\core\\formatters.py\u001B[0m in \u001B[0;36m__call__\u001B[1;34m(self, obj)\u001B[0m\n\u001B[0;32m    343\u001B[0m             \u001B[0mmethod\u001B[0m \u001B[1;33m=\u001B[0m \u001B[0mget_real_method\u001B[0m\u001B[1;33m(\u001B[0m\u001B[0mobj\u001B[0m\u001B[1;33m,\u001B[0m \u001B[0mself\u001B[0m\u001B[1;33m.\u001B[0m\u001B[0mprint_method\u001B[0m\u001B[1;33m)\u001B[0m\u001B[1;33m\u001B[0m\u001B[1;33m\u001B[0m\u001B[0m\n\u001B[0;32m    344\u001B[0m             \u001B[1;32mif\u001B[0m \u001B[0mmethod\u001B[0m \u001B[1;32mis\u001B[0m \u001B[1;32mnot\u001B[0m \u001B[1;32mNone\u001B[0m\u001B[1;33m:\u001B[0m\u001B[1;33m\u001B[0m\u001B[1;33m\u001B[0m\u001B[0m\n\u001B[1;32m--> 345\u001B[1;33m                 \u001B[1;32mreturn\u001B[0m \u001B[0mmethod\u001B[0m\u001B[1;33m(\u001B[0m\u001B[1;33m)\u001B[0m\u001B[1;33m\u001B[0m\u001B[1;33m\u001B[0m\u001B[0m\n\u001B[0m\u001B[0;32m    346\u001B[0m             \u001B[1;32mreturn\u001B[0m \u001B[1;32mNone\u001B[0m\u001B[1;33m\u001B[0m\u001B[1;33m\u001B[0m\u001B[0m\n\u001B[0;32m    347\u001B[0m         \u001B[1;32melse\u001B[0m\u001B[1;33m:\u001B[0m\u001B[1;33m\u001B[0m\u001B[1;33m\u001B[0m\u001B[0m\n",
      "\u001B[1;32m~\\PycharmProjects\\automatesfinis\\automaton.py\u001B[0m in \u001B[0;36m_repr_svg_\u001B[1;34m(self)\u001B[0m\n\u001B[0;32m    240\u001B[0m \u001B[1;33m\u001B[0m\u001B[0m\n\u001B[0;32m    241\u001B[0m   \u001B[1;32mdef\u001B[0m \u001B[0m_repr_svg_\u001B[0m\u001B[1;33m(\u001B[0m\u001B[0mself\u001B[0m\u001B[1;33m)\u001B[0m\u001B[1;33m:\u001B[0m\u001B[1;33m\u001B[0m\u001B[1;33m\u001B[0m\u001B[0m\n\u001B[1;32m--> 242\u001B[1;33m     \u001B[1;32mreturn\u001B[0m \u001B[0mself\u001B[0m\u001B[1;33m.\u001B[0m\u001B[0mto_graphviz\u001B[0m\u001B[1;33m(\u001B[0m\u001B[1;33m)\u001B[0m\u001B[1;33m.\u001B[0m\u001B[0m_repr_svg_\u001B[0m\u001B[1;33m(\u001B[0m\u001B[1;33m)\u001B[0m\u001B[1;33m\u001B[0m\u001B[1;33m\u001B[0m\u001B[0m\n\u001B[0m\u001B[0;32m    243\u001B[0m \u001B[1;33m\u001B[0m\u001B[0m\n\u001B[0;32m    244\u001B[0m \u001B[1;31m##################\u001B[0m\u001B[1;33m\u001B[0m\u001B[1;33m\u001B[0m\u001B[1;33m\u001B[0m\u001B[0m\n",
      "\u001B[1;32mc:\\program files (x86)\\python38-32\\lib\\site-packages\\graphviz\\files.py\u001B[0m in \u001B[0;36m_repr_svg_\u001B[1;34m(self)\u001B[0m\n\u001B[0;32m    111\u001B[0m \u001B[1;33m\u001B[0m\u001B[0m\n\u001B[0;32m    112\u001B[0m     \u001B[1;32mdef\u001B[0m \u001B[0m_repr_svg_\u001B[0m\u001B[1;33m(\u001B[0m\u001B[0mself\u001B[0m\u001B[1;33m)\u001B[0m\u001B[1;33m:\u001B[0m\u001B[1;33m\u001B[0m\u001B[1;33m\u001B[0m\u001B[0m\n\u001B[1;32m--> 113\u001B[1;33m         \u001B[1;32mreturn\u001B[0m \u001B[0mself\u001B[0m\u001B[1;33m.\u001B[0m\u001B[0mpipe\u001B[0m\u001B[1;33m(\u001B[0m\u001B[0mformat\u001B[0m\u001B[1;33m=\u001B[0m\u001B[1;34m'svg'\u001B[0m\u001B[1;33m)\u001B[0m\u001B[1;33m.\u001B[0m\u001B[0mdecode\u001B[0m\u001B[1;33m(\u001B[0m\u001B[0mself\u001B[0m\u001B[1;33m.\u001B[0m\u001B[0m_encoding\u001B[0m\u001B[1;33m)\u001B[0m\u001B[1;33m\u001B[0m\u001B[1;33m\u001B[0m\u001B[0m\n\u001B[0m\u001B[0;32m    114\u001B[0m \u001B[1;33m\u001B[0m\u001B[0m\n\u001B[0;32m    115\u001B[0m     \u001B[1;32mdef\u001B[0m \u001B[0mpipe\u001B[0m\u001B[1;33m(\u001B[0m\u001B[0mself\u001B[0m\u001B[1;33m,\u001B[0m \u001B[0mformat\u001B[0m\u001B[1;33m=\u001B[0m\u001B[1;32mNone\u001B[0m\u001B[1;33m,\u001B[0m \u001B[0mrenderer\u001B[0m\u001B[1;33m=\u001B[0m\u001B[1;32mNone\u001B[0m\u001B[1;33m,\u001B[0m \u001B[0mformatter\u001B[0m\u001B[1;33m=\u001B[0m\u001B[1;32mNone\u001B[0m\u001B[1;33m,\u001B[0m \u001B[0mquiet\u001B[0m\u001B[1;33m=\u001B[0m\u001B[1;32mFalse\u001B[0m\u001B[1;33m)\u001B[0m\u001B[1;33m:\u001B[0m\u001B[1;33m\u001B[0m\u001B[1;33m\u001B[0m\u001B[0m\n",
      "\u001B[1;32mc:\\program files (x86)\\python38-32\\lib\\site-packages\\graphviz\\files.py\u001B[0m in \u001B[0;36mpipe\u001B[1;34m(self, format, renderer, formatter, quiet)\u001B[0m\n\u001B[0;32m    134\u001B[0m         \u001B[0mdata\u001B[0m \u001B[1;33m=\u001B[0m \u001B[0mtext_type\u001B[0m\u001B[1;33m(\u001B[0m\u001B[0mself\u001B[0m\u001B[1;33m.\u001B[0m\u001B[0msource\u001B[0m\u001B[1;33m)\u001B[0m\u001B[1;33m.\u001B[0m\u001B[0mencode\u001B[0m\u001B[1;33m(\u001B[0m\u001B[0mself\u001B[0m\u001B[1;33m.\u001B[0m\u001B[0m_encoding\u001B[0m\u001B[1;33m)\u001B[0m\u001B[1;33m\u001B[0m\u001B[1;33m\u001B[0m\u001B[0m\n\u001B[0;32m    135\u001B[0m \u001B[1;33m\u001B[0m\u001B[0m\n\u001B[1;32m--> 136\u001B[1;33m         out = backend.pipe(self._engine, format, data,\n\u001B[0m\u001B[0;32m    137\u001B[0m                            \u001B[0mrenderer\u001B[0m\u001B[1;33m=\u001B[0m\u001B[0mrenderer\u001B[0m\u001B[1;33m,\u001B[0m \u001B[0mformatter\u001B[0m\u001B[1;33m=\u001B[0m\u001B[0mformatter\u001B[0m\u001B[1;33m,\u001B[0m\u001B[1;33m\u001B[0m\u001B[1;33m\u001B[0m\u001B[0m\n\u001B[0;32m    138\u001B[0m                            quiet=quiet)\n",
      "\u001B[1;32mc:\\program files (x86)\\python38-32\\lib\\site-packages\\graphviz\\backend.py\u001B[0m in \u001B[0;36mpipe\u001B[1;34m(engine, format, data, renderer, formatter, quiet)\u001B[0m\n\u001B[0;32m    242\u001B[0m     \"\"\"\n\u001B[0;32m    243\u001B[0m     \u001B[0mcmd\u001B[0m\u001B[1;33m,\u001B[0m \u001B[0m_\u001B[0m \u001B[1;33m=\u001B[0m \u001B[0mcommand\u001B[0m\u001B[1;33m(\u001B[0m\u001B[0mengine\u001B[0m\u001B[1;33m,\u001B[0m \u001B[0mformat\u001B[0m\u001B[1;33m,\u001B[0m \u001B[1;32mNone\u001B[0m\u001B[1;33m,\u001B[0m \u001B[0mrenderer\u001B[0m\u001B[1;33m,\u001B[0m \u001B[0mformatter\u001B[0m\u001B[1;33m)\u001B[0m\u001B[1;33m\u001B[0m\u001B[1;33m\u001B[0m\u001B[0m\n\u001B[1;32m--> 244\u001B[1;33m     \u001B[0mout\u001B[0m\u001B[1;33m,\u001B[0m \u001B[0m_\u001B[0m \u001B[1;33m=\u001B[0m \u001B[0mrun\u001B[0m\u001B[1;33m(\u001B[0m\u001B[0mcmd\u001B[0m\u001B[1;33m,\u001B[0m \u001B[0minput\u001B[0m\u001B[1;33m=\u001B[0m\u001B[0mdata\u001B[0m\u001B[1;33m,\u001B[0m \u001B[0mcapture_output\u001B[0m\u001B[1;33m=\u001B[0m\u001B[1;32mTrue\u001B[0m\u001B[1;33m,\u001B[0m \u001B[0mcheck\u001B[0m\u001B[1;33m=\u001B[0m\u001B[1;32mTrue\u001B[0m\u001B[1;33m,\u001B[0m \u001B[0mquiet\u001B[0m\u001B[1;33m=\u001B[0m\u001B[0mquiet\u001B[0m\u001B[1;33m)\u001B[0m\u001B[1;33m\u001B[0m\u001B[1;33m\u001B[0m\u001B[0m\n\u001B[0m\u001B[0;32m    245\u001B[0m     \u001B[1;32mreturn\u001B[0m \u001B[0mout\u001B[0m\u001B[1;33m\u001B[0m\u001B[1;33m\u001B[0m\u001B[0m\n\u001B[0;32m    246\u001B[0m \u001B[1;33m\u001B[0m\u001B[0m\n",
      "\u001B[1;32mc:\\program files (x86)\\python38-32\\lib\\site-packages\\graphviz\\backend.py\u001B[0m in \u001B[0;36mrun\u001B[1;34m(cmd, input, capture_output, check, encoding, quiet, **kwargs)\u001B[0m\n\u001B[0;32m    165\u001B[0m     \u001B[1;32mexcept\u001B[0m \u001B[0mOSError\u001B[0m \u001B[1;32mas\u001B[0m \u001B[0me\u001B[0m\u001B[1;33m:\u001B[0m\u001B[1;33m\u001B[0m\u001B[1;33m\u001B[0m\u001B[0m\n\u001B[0;32m    166\u001B[0m         \u001B[1;32mif\u001B[0m \u001B[0me\u001B[0m\u001B[1;33m.\u001B[0m\u001B[0merrno\u001B[0m \u001B[1;33m==\u001B[0m \u001B[0merrno\u001B[0m\u001B[1;33m.\u001B[0m\u001B[0mENOENT\u001B[0m\u001B[1;33m:\u001B[0m\u001B[1;33m\u001B[0m\u001B[1;33m\u001B[0m\u001B[0m\n\u001B[1;32m--> 167\u001B[1;33m             \u001B[1;32mraise\u001B[0m \u001B[0mExecutableNotFound\u001B[0m\u001B[1;33m(\u001B[0m\u001B[0mcmd\u001B[0m\u001B[1;33m)\u001B[0m\u001B[1;33m\u001B[0m\u001B[1;33m\u001B[0m\u001B[0m\n\u001B[0m\u001B[0;32m    168\u001B[0m         \u001B[1;32melse\u001B[0m\u001B[1;33m:\u001B[0m\u001B[1;33m\u001B[0m\u001B[1;33m\u001B[0m\u001B[0m\n\u001B[0;32m    169\u001B[0m             \u001B[1;32mraise\u001B[0m\u001B[1;33m\u001B[0m\u001B[1;33m\u001B[0m\u001B[0m\n",
      "\u001B[1;31mExecutableNotFound\u001B[0m: failed to execute ['dot', '-Tsvg'], make sure the Graphviz executables are on your systems' PATH"
     ]
    },
    {
     "data": {
      "text/plain": [
       "<automaton.Automaton at 0x634b1c0>"
      ]
     },
     "execution_count": 4,
     "metadata": {},
     "output_type": "execute_result"
    }
   ],
   "source": [
    "import automaton\n",
    "a_test = automaton.Automaton(\"a_test\")\n",
    "a_test.add_transition(\"0\",\"a\",\"1\")\n",
    "a_test"
   ]
  },
  {
   "cell_type": "markdown",
   "metadata": {
    "id": "3SJ9uf3JlF_W"
   },
   "source": [
    "Vous pouvez ensuite ajouter des états et des transitions. La source de la première transition sera considérée comme l'état initial:"
   ]
  },
  {
   "cell_type": "code",
   "execution_count": 5,
   "metadata": {
    "id": "nc9s4FjYlF_Y",
    "scrolled": true
   },
   "outputs": [
    {
     "ename": "ExecutableNotFound",
     "evalue": "failed to execute ['dot', '-Tsvg'], make sure the Graphviz executables are on your systems' PATH",
     "output_type": "error",
     "traceback": [
      "\u001B[1;31m---------------------------------------------------------------------------\u001B[0m",
      "\u001B[1;31mFileNotFoundError\u001B[0m                         Traceback (most recent call last)",
      "\u001B[1;32mc:\\program files (x86)\\python38-32\\lib\\site-packages\\graphviz\\backend.py\u001B[0m in \u001B[0;36mrun\u001B[1;34m(cmd, input, capture_output, check, encoding, quiet, **kwargs)\u001B[0m\n\u001B[0;32m    163\u001B[0m     \u001B[1;32mtry\u001B[0m\u001B[1;33m:\u001B[0m\u001B[1;33m\u001B[0m\u001B[1;33m\u001B[0m\u001B[0m\n\u001B[1;32m--> 164\u001B[1;33m         \u001B[0mproc\u001B[0m \u001B[1;33m=\u001B[0m \u001B[0msubprocess\u001B[0m\u001B[1;33m.\u001B[0m\u001B[0mPopen\u001B[0m\u001B[1;33m(\u001B[0m\u001B[0mcmd\u001B[0m\u001B[1;33m,\u001B[0m \u001B[0mstartupinfo\u001B[0m\u001B[1;33m=\u001B[0m\u001B[0mget_startupinfo\u001B[0m\u001B[1;33m(\u001B[0m\u001B[1;33m)\u001B[0m\u001B[1;33m,\u001B[0m \u001B[1;33m**\u001B[0m\u001B[0mkwargs\u001B[0m\u001B[1;33m)\u001B[0m\u001B[1;33m\u001B[0m\u001B[1;33m\u001B[0m\u001B[0m\n\u001B[0m\u001B[0;32m    165\u001B[0m     \u001B[1;32mexcept\u001B[0m \u001B[0mOSError\u001B[0m \u001B[1;32mas\u001B[0m \u001B[0me\u001B[0m\u001B[1;33m:\u001B[0m\u001B[1;33m\u001B[0m\u001B[1;33m\u001B[0m\u001B[0m\n",
      "\u001B[1;32mc:\\program files (x86)\\python38-32\\lib\\subprocess.py\u001B[0m in \u001B[0;36m__init__\u001B[1;34m(self, args, bufsize, executable, stdin, stdout, stderr, preexec_fn, close_fds, shell, cwd, env, universal_newlines, startupinfo, creationflags, restore_signals, start_new_session, pass_fds, encoding, errors, text)\u001B[0m\n\u001B[0;32m    853\u001B[0m \u001B[1;33m\u001B[0m\u001B[0m\n\u001B[1;32m--> 854\u001B[1;33m             self._execute_child(args, executable, preexec_fn, close_fds,\n\u001B[0m\u001B[0;32m    855\u001B[0m                                 \u001B[0mpass_fds\u001B[0m\u001B[1;33m,\u001B[0m \u001B[0mcwd\u001B[0m\u001B[1;33m,\u001B[0m \u001B[0menv\u001B[0m\u001B[1;33m,\u001B[0m\u001B[1;33m\u001B[0m\u001B[1;33m\u001B[0m\u001B[0m\n",
      "\u001B[1;32mc:\\program files (x86)\\python38-32\\lib\\subprocess.py\u001B[0m in \u001B[0;36m_execute_child\u001B[1;34m(self, args, executable, preexec_fn, close_fds, pass_fds, cwd, env, startupinfo, creationflags, shell, p2cread, p2cwrite, c2pread, c2pwrite, errread, errwrite, unused_restore_signals, unused_start_new_session)\u001B[0m\n\u001B[0;32m   1306\u001B[0m             \u001B[1;32mtry\u001B[0m\u001B[1;33m:\u001B[0m\u001B[1;33m\u001B[0m\u001B[1;33m\u001B[0m\u001B[0m\n\u001B[1;32m-> 1307\u001B[1;33m                 hp, ht, pid, tid = _winapi.CreateProcess(executable, args,\n\u001B[0m\u001B[0;32m   1308\u001B[0m                                          \u001B[1;31m# no special security\u001B[0m\u001B[1;33m\u001B[0m\u001B[1;33m\u001B[0m\u001B[1;33m\u001B[0m\u001B[0m\n",
      "\u001B[1;31mFileNotFoundError\u001B[0m: [WinError 2] The system cannot find the file specified",
      "\nDuring handling of the above exception, another exception occurred:\n",
      "\u001B[1;31mExecutableNotFound\u001B[0m                        Traceback (most recent call last)",
      "\u001B[1;32mc:\\program files (x86)\\python38-32\\lib\\site-packages\\IPython\\core\\formatters.py\u001B[0m in \u001B[0;36m__call__\u001B[1;34m(self, obj)\u001B[0m\n\u001B[0;32m    343\u001B[0m             \u001B[0mmethod\u001B[0m \u001B[1;33m=\u001B[0m \u001B[0mget_real_method\u001B[0m\u001B[1;33m(\u001B[0m\u001B[0mobj\u001B[0m\u001B[1;33m,\u001B[0m \u001B[0mself\u001B[0m\u001B[1;33m.\u001B[0m\u001B[0mprint_method\u001B[0m\u001B[1;33m)\u001B[0m\u001B[1;33m\u001B[0m\u001B[1;33m\u001B[0m\u001B[0m\n\u001B[0;32m    344\u001B[0m             \u001B[1;32mif\u001B[0m \u001B[0mmethod\u001B[0m \u001B[1;32mis\u001B[0m \u001B[1;32mnot\u001B[0m \u001B[1;32mNone\u001B[0m\u001B[1;33m:\u001B[0m\u001B[1;33m\u001B[0m\u001B[1;33m\u001B[0m\u001B[0m\n\u001B[1;32m--> 345\u001B[1;33m                 \u001B[1;32mreturn\u001B[0m \u001B[0mmethod\u001B[0m\u001B[1;33m(\u001B[0m\u001B[1;33m)\u001B[0m\u001B[1;33m\u001B[0m\u001B[1;33m\u001B[0m\u001B[0m\n\u001B[0m\u001B[0;32m    346\u001B[0m             \u001B[1;32mreturn\u001B[0m \u001B[1;32mNone\u001B[0m\u001B[1;33m\u001B[0m\u001B[1;33m\u001B[0m\u001B[0m\n\u001B[0;32m    347\u001B[0m         \u001B[1;32melse\u001B[0m\u001B[1;33m:\u001B[0m\u001B[1;33m\u001B[0m\u001B[1;33m\u001B[0m\u001B[0m\n",
      "\u001B[1;32m~\\PycharmProjects\\automatesfinis\\automaton.py\u001B[0m in \u001B[0;36m_repr_svg_\u001B[1;34m(self)\u001B[0m\n\u001B[0;32m    240\u001B[0m \u001B[1;33m\u001B[0m\u001B[0m\n\u001B[0;32m    241\u001B[0m   \u001B[1;32mdef\u001B[0m \u001B[0m_repr_svg_\u001B[0m\u001B[1;33m(\u001B[0m\u001B[0mself\u001B[0m\u001B[1;33m)\u001B[0m\u001B[1;33m:\u001B[0m\u001B[1;33m\u001B[0m\u001B[1;33m\u001B[0m\u001B[0m\n\u001B[1;32m--> 242\u001B[1;33m     \u001B[1;32mreturn\u001B[0m \u001B[0mself\u001B[0m\u001B[1;33m.\u001B[0m\u001B[0mto_graphviz\u001B[0m\u001B[1;33m(\u001B[0m\u001B[1;33m)\u001B[0m\u001B[1;33m.\u001B[0m\u001B[0m_repr_svg_\u001B[0m\u001B[1;33m(\u001B[0m\u001B[1;33m)\u001B[0m\u001B[1;33m\u001B[0m\u001B[1;33m\u001B[0m\u001B[0m\n\u001B[0m\u001B[0;32m    243\u001B[0m \u001B[1;33m\u001B[0m\u001B[0m\n\u001B[0;32m    244\u001B[0m \u001B[1;31m##################\u001B[0m\u001B[1;33m\u001B[0m\u001B[1;33m\u001B[0m\u001B[1;33m\u001B[0m\u001B[0m\n",
      "\u001B[1;32mc:\\program files (x86)\\python38-32\\lib\\site-packages\\graphviz\\files.py\u001B[0m in \u001B[0;36m_repr_svg_\u001B[1;34m(self)\u001B[0m\n\u001B[0;32m    111\u001B[0m \u001B[1;33m\u001B[0m\u001B[0m\n\u001B[0;32m    112\u001B[0m     \u001B[1;32mdef\u001B[0m \u001B[0m_repr_svg_\u001B[0m\u001B[1;33m(\u001B[0m\u001B[0mself\u001B[0m\u001B[1;33m)\u001B[0m\u001B[1;33m:\u001B[0m\u001B[1;33m\u001B[0m\u001B[1;33m\u001B[0m\u001B[0m\n\u001B[1;32m--> 113\u001B[1;33m         \u001B[1;32mreturn\u001B[0m \u001B[0mself\u001B[0m\u001B[1;33m.\u001B[0m\u001B[0mpipe\u001B[0m\u001B[1;33m(\u001B[0m\u001B[0mformat\u001B[0m\u001B[1;33m=\u001B[0m\u001B[1;34m'svg'\u001B[0m\u001B[1;33m)\u001B[0m\u001B[1;33m.\u001B[0m\u001B[0mdecode\u001B[0m\u001B[1;33m(\u001B[0m\u001B[0mself\u001B[0m\u001B[1;33m.\u001B[0m\u001B[0m_encoding\u001B[0m\u001B[1;33m)\u001B[0m\u001B[1;33m\u001B[0m\u001B[1;33m\u001B[0m\u001B[0m\n\u001B[0m\u001B[0;32m    114\u001B[0m \u001B[1;33m\u001B[0m\u001B[0m\n\u001B[0;32m    115\u001B[0m     \u001B[1;32mdef\u001B[0m \u001B[0mpipe\u001B[0m\u001B[1;33m(\u001B[0m\u001B[0mself\u001B[0m\u001B[1;33m,\u001B[0m \u001B[0mformat\u001B[0m\u001B[1;33m=\u001B[0m\u001B[1;32mNone\u001B[0m\u001B[1;33m,\u001B[0m \u001B[0mrenderer\u001B[0m\u001B[1;33m=\u001B[0m\u001B[1;32mNone\u001B[0m\u001B[1;33m,\u001B[0m \u001B[0mformatter\u001B[0m\u001B[1;33m=\u001B[0m\u001B[1;32mNone\u001B[0m\u001B[1;33m,\u001B[0m \u001B[0mquiet\u001B[0m\u001B[1;33m=\u001B[0m\u001B[1;32mFalse\u001B[0m\u001B[1;33m)\u001B[0m\u001B[1;33m:\u001B[0m\u001B[1;33m\u001B[0m\u001B[1;33m\u001B[0m\u001B[0m\n",
      "\u001B[1;32mc:\\program files (x86)\\python38-32\\lib\\site-packages\\graphviz\\files.py\u001B[0m in \u001B[0;36mpipe\u001B[1;34m(self, format, renderer, formatter, quiet)\u001B[0m\n\u001B[0;32m    134\u001B[0m         \u001B[0mdata\u001B[0m \u001B[1;33m=\u001B[0m \u001B[0mtext_type\u001B[0m\u001B[1;33m(\u001B[0m\u001B[0mself\u001B[0m\u001B[1;33m.\u001B[0m\u001B[0msource\u001B[0m\u001B[1;33m)\u001B[0m\u001B[1;33m.\u001B[0m\u001B[0mencode\u001B[0m\u001B[1;33m(\u001B[0m\u001B[0mself\u001B[0m\u001B[1;33m.\u001B[0m\u001B[0m_encoding\u001B[0m\u001B[1;33m)\u001B[0m\u001B[1;33m\u001B[0m\u001B[1;33m\u001B[0m\u001B[0m\n\u001B[0;32m    135\u001B[0m \u001B[1;33m\u001B[0m\u001B[0m\n\u001B[1;32m--> 136\u001B[1;33m         out = backend.pipe(self._engine, format, data,\n\u001B[0m\u001B[0;32m    137\u001B[0m                            \u001B[0mrenderer\u001B[0m\u001B[1;33m=\u001B[0m\u001B[0mrenderer\u001B[0m\u001B[1;33m,\u001B[0m \u001B[0mformatter\u001B[0m\u001B[1;33m=\u001B[0m\u001B[0mformatter\u001B[0m\u001B[1;33m,\u001B[0m\u001B[1;33m\u001B[0m\u001B[1;33m\u001B[0m\u001B[0m\n\u001B[0;32m    138\u001B[0m                            quiet=quiet)\n",
      "\u001B[1;32mc:\\program files (x86)\\python38-32\\lib\\site-packages\\graphviz\\backend.py\u001B[0m in \u001B[0;36mpipe\u001B[1;34m(engine, format, data, renderer, formatter, quiet)\u001B[0m\n\u001B[0;32m    242\u001B[0m     \"\"\"\n\u001B[0;32m    243\u001B[0m     \u001B[0mcmd\u001B[0m\u001B[1;33m,\u001B[0m \u001B[0m_\u001B[0m \u001B[1;33m=\u001B[0m \u001B[0mcommand\u001B[0m\u001B[1;33m(\u001B[0m\u001B[0mengine\u001B[0m\u001B[1;33m,\u001B[0m \u001B[0mformat\u001B[0m\u001B[1;33m,\u001B[0m \u001B[1;32mNone\u001B[0m\u001B[1;33m,\u001B[0m \u001B[0mrenderer\u001B[0m\u001B[1;33m,\u001B[0m \u001B[0mformatter\u001B[0m\u001B[1;33m)\u001B[0m\u001B[1;33m\u001B[0m\u001B[1;33m\u001B[0m\u001B[0m\n\u001B[1;32m--> 244\u001B[1;33m     \u001B[0mout\u001B[0m\u001B[1;33m,\u001B[0m \u001B[0m_\u001B[0m \u001B[1;33m=\u001B[0m \u001B[0mrun\u001B[0m\u001B[1;33m(\u001B[0m\u001B[0mcmd\u001B[0m\u001B[1;33m,\u001B[0m \u001B[0minput\u001B[0m\u001B[1;33m=\u001B[0m\u001B[0mdata\u001B[0m\u001B[1;33m,\u001B[0m \u001B[0mcapture_output\u001B[0m\u001B[1;33m=\u001B[0m\u001B[1;32mTrue\u001B[0m\u001B[1;33m,\u001B[0m \u001B[0mcheck\u001B[0m\u001B[1;33m=\u001B[0m\u001B[1;32mTrue\u001B[0m\u001B[1;33m,\u001B[0m \u001B[0mquiet\u001B[0m\u001B[1;33m=\u001B[0m\u001B[0mquiet\u001B[0m\u001B[1;33m)\u001B[0m\u001B[1;33m\u001B[0m\u001B[1;33m\u001B[0m\u001B[0m\n\u001B[0m\u001B[0;32m    245\u001B[0m     \u001B[1;32mreturn\u001B[0m \u001B[0mout\u001B[0m\u001B[1;33m\u001B[0m\u001B[1;33m\u001B[0m\u001B[0m\n\u001B[0;32m    246\u001B[0m \u001B[1;33m\u001B[0m\u001B[0m\n",
      "\u001B[1;32mc:\\program files (x86)\\python38-32\\lib\\site-packages\\graphviz\\backend.py\u001B[0m in \u001B[0;36mrun\u001B[1;34m(cmd, input, capture_output, check, encoding, quiet, **kwargs)\u001B[0m\n\u001B[0;32m    165\u001B[0m     \u001B[1;32mexcept\u001B[0m \u001B[0mOSError\u001B[0m \u001B[1;32mas\u001B[0m \u001B[0me\u001B[0m\u001B[1;33m:\u001B[0m\u001B[1;33m\u001B[0m\u001B[1;33m\u001B[0m\u001B[0m\n\u001B[0;32m    166\u001B[0m         \u001B[1;32mif\u001B[0m \u001B[0me\u001B[0m\u001B[1;33m.\u001B[0m\u001B[0merrno\u001B[0m \u001B[1;33m==\u001B[0m \u001B[0merrno\u001B[0m\u001B[1;33m.\u001B[0m\u001B[0mENOENT\u001B[0m\u001B[1;33m:\u001B[0m\u001B[1;33m\u001B[0m\u001B[1;33m\u001B[0m\u001B[0m\n\u001B[1;32m--> 167\u001B[1;33m             \u001B[1;32mraise\u001B[0m \u001B[0mExecutableNotFound\u001B[0m\u001B[1;33m(\u001B[0m\u001B[0mcmd\u001B[0m\u001B[1;33m)\u001B[0m\u001B[1;33m\u001B[0m\u001B[1;33m\u001B[0m\u001B[0m\n\u001B[0m\u001B[0;32m    168\u001B[0m         \u001B[1;32melse\u001B[0m\u001B[1;33m:\u001B[0m\u001B[1;33m\u001B[0m\u001B[1;33m\u001B[0m\u001B[0m\n\u001B[0;32m    169\u001B[0m             \u001B[1;32mraise\u001B[0m\u001B[1;33m\u001B[0m\u001B[1;33m\u001B[0m\u001B[0m\n",
      "\u001B[1;31mExecutableNotFound\u001B[0m: failed to execute ['dot', '-Tsvg'], make sure the Graphviz executables are on your systems' PATH"
     ]
    },
    {
     "data": {
      "text/plain": [
       "<automaton.Automaton at 0x634b1c0>"
      ]
     },
     "execution_count": 5,
     "metadata": {},
     "output_type": "execute_result"
    }
   ],
   "source": [
    "a_test.reset()\n",
    "a_test.add_transition(\"0\",\"a\",\"2\")\n",
    "a_test"
   ]
  },
  {
   "cell_type": "markdown",
   "metadata": {
    "id": "u--4U1fflF_f"
   },
   "source": [
    "Notez que cet automate ne reconnait aucun mot, car il n'a aucun état d'acceptation/final. Vous pouvez marquer un ou plusieurs états comme finaux à l'aide de la fonction suivante:"
   ]
  },
  {
   "cell_type": "code",
   "execution_count": 7,
   "metadata": {
    "id": "GqY3WJ_8lF_f",
    "scrolled": true
   },
   "outputs": [
    {
     "name": "stderr",
     "output_type": "stream",
     "text": [
      "ERROR: Accept state 1 inexistent!\n"
     ]
    },
    {
     "ename": "SystemExit",
     "evalue": "1",
     "output_type": "error",
     "traceback": [
      "An exception has occurred, use %tb to see the full traceback.\n",
      "\u001B[1;31mSystemExit\u001B[0m\u001B[1;31m:\u001B[0m 1\n"
     ]
    }
   ],
   "source": [
    "a_test.make_accept(\"1\")\n",
    "a_test"
   ]
  },
  {
   "cell_type": "markdown",
   "metadata": {
    "id": "h1YhqeWmlF_l"
   },
   "source": [
    "Alternativement, vous pouvez marquer plusieurs états comme états d'acceptation:"
   ]
  },
  {
   "cell_type": "code",
   "execution_count": null,
   "metadata": {
    "id": "tbCs2xKwlF_n"
   },
   "outputs": [],
   "source": [
    "a_test.make_accept([\"0\",\"1\"])\n",
    "a_test"
   ]
  },
  {
   "cell_type": "markdown",
   "metadata": {
    "id": "7YmDl9s2lF_t"
   },
   "source": [
    "Vous pouvez afficher l'automate sous la forme textuelle à n'importe quel moment dans votre code, par exemple, pour déboguer. Notez que la fonction delta est donnée sous la forme d'un tableau de transitions:"
   ]
  },
  {
   "cell_type": "code",
   "execution_count": null,
   "metadata": {
    "id": "DQ0_6mzAlF_v",
    "scrolled": false
   },
   "outputs": [],
   "source": [
    "print(a_test)"
   ]
  },
  {
   "cell_type": "markdown",
   "metadata": {
    "id": "ZA0IvMGflF_0"
   },
   "source": [
    "Dans cet exemple, `Q` contient la liste d'états `{0,1}`, l'alphabet `S` est automatiquement construit à partir des transitions et contient uniquement le symbole `{a}`, l'état initial est `q0=0` et les états d'acceptation `F={0,1}`. Ces valeurs sont accessibles aussi directement, sous la forme de listes ou de chaînes de caractères, via des variables de l'automate :"
   ]
  },
  {
   "cell_type": "code",
   "execution_count": null,
   "metadata": {
    "id": "6KzwT_xHlF_0"
   },
   "outputs": [],
   "source": [
    "print(a_test.states)\n",
    "print(a_test.alphabet)\n",
    "print(a_test.initial)\n",
    "print(a_test.acceptstates)\n",
    "print(a_test.transition_table)"
   ]
  },
  {
   "cell_type": "markdown",
   "metadata": {
    "id": "bGLSDuHilF_6"
   },
   "source": [
    "Vous pouvez aussi afficher votre automate sous la forme de fichier `.txt`:"
   ]
  },
  {
   "cell_type": "code",
   "execution_count": null,
   "metadata": {
    "id": "Gr7xz-FGlF_7"
   },
   "outputs": [],
   "source": [
    "print(a_test.to_txtfile(\"test.txt\"))"
   ]
  },
  {
   "cell_type": "markdown",
   "metadata": {
    "id": "mP92uxOxlGAB"
   },
   "source": [
    "Un automate peut être réinitialisé à tout moment:"
   ]
  },
  {
   "cell_type": "code",
   "execution_count": null,
   "metadata": {
    "id": "M1_kK6fllGAC",
    "scrolled": true
   },
   "outputs": [],
   "source": [
    "a_test.reset()\n",
    "a_test"
   ]
  },
  {
   "cell_type": "markdown",
   "metadata": {
    "id": "b18nZ4m5lGAH"
   },
   "source": [
    "Vous pouvez aussi construire un automate à partir d'une chaîne de caractères directement à l'aide de la fonction `from_txt`:"
   ]
  },
  {
   "cell_type": "code",
   "execution_count": null,
   "metadata": {
    "id": "KMWAY60PlGAI"
   },
   "outputs": [],
   "source": [
    "source = \"\"\"0 a 1\n",
    "0 b 2\n",
    "1 a 1\n",
    "2 b 2\n",
    "A 0 1 2\n",
    "\"\"\"\n",
    "astarbstar = automaton.Automaton(\"astarbstar\")\n",
    "astarbstar.from_txt(source)\n",
    "astarbstar"
   ]
  },
  {
   "cell_type": "markdown",
   "metadata": {
    "id": "2Mw4cJZ2lGAN"
   },
   "source": [
    "Essayez de modifier la variable `source` et observez le résultat dans l'automate. Ajouter ou supprimez des transitions, des états, des états d'acceptation...\n",
    "\n",
    "Vous pouvez aussi lire un automate en passant directement le nom du fichier à la fonction `from_txtfile` (n'oubliez pas de charger le fichier si vous êtes sur Colab):"
   ]
  },
  {
   "cell_type": "code",
   "execution_count": null,
   "metadata": {
    "id": "chgwQjCslGAO"
   },
   "outputs": [],
   "source": [
    "astarbstar.from_txtfile(\"test/astarbstar.af\")\n",
    "astarbstar\n"
   ]
  },
  {
   "cell_type": "markdown",
   "metadata": {
    "id": "AC9kIFzMlGAU"
   },
   "source": [
    "Les transitions-ε sont représentées par le symbole spécial `%` (constante `automaton.Automaton.EPSILON`). Vous pouvez créer un automate non-déterministe avec des transitions-ε comme ceci:"
   ]
  },
  {
   "cell_type": "code",
   "execution_count": null,
   "metadata": {
    "id": "1GmPTR5jlGAV"
   },
   "outputs": [],
   "source": [
    "source = \"\"\"0 % 1\n",
    "0 % 2\n",
    "1 a 1\n",
    "2 b 2\n",
    "A 0 1 2\n",
    "\"\"\"\n",
    "astarbstar.from_txt(source)\n",
    "astarbstar"
   ]
  },
  {
   "cell_type": "markdown",
   "metadata": {
    "id": "G5sUGG1WlGAZ"
   },
   "source": [
    "Les automates sur ce sujet s'affichent graphiquement à l'aide de la fonction `to_graphviz()`. Vous pouvez toujours copier-coller des automates ici pour les visualiser, mais il est peut-être plus pratique de les créer directement en local. Pour cela, il suffit d'appeler la fonction avec un nom de fichier, et un fichier (avec l'extension `.pdf` automatiquement ajoutée) sera créé. La fonction renvoie l'objet `graphviz` au [format DOT](https://graphviz.org/doc/info/lang.html): "
   ]
  },
  {
   "cell_type": "code",
   "execution_count": null,
   "metadata": {
    "id": "tsO2vfhMlGAa"
   },
   "outputs": [],
   "source": [
    "astarbstar_gv = astarbstar.to_graphviz(\"test/astarbstar.gv\")\n",
    "print(astarbstar_gv.source)"
   ]
  },
  {
   "cell_type": "markdown",
   "metadata": {
    "id": "vKeQvRjilGAg"
   },
   "source": [
    "Vous aurez peut-être besoin d'accéder à la liste d'états et de transitions de l'automate. Chaque état est dans un dictionnaire python indexé par son nom, et contient une liste de transitions. Les transitions sont, à leur tour, des dictionnaires contenant, pour chaque symbole, un ensemble d'états cible:"
   ]
  },
  {
   "cell_type": "code",
   "execution_count": null,
   "metadata": {},
   "outputs": [],
   "source": [
    "# source state 1 (from dict of states), transition on \"a\", first (and only) destination state\n",
    "print(str(list(astarbstar.statesdict[\"1\"].transitions[\"a\"])[0]))"
   ]
  },
  {
   "cell_type": "markdown",
   "metadata": {},
   "source": [
    "Vous trouverez d'autres exemples d'usage de la bibliothèque dans `automaton.py` à la toute fin du code-source."
   ]
  },
  {
   "cell_type": "markdown",
   "metadata": {
    "id": "wwbVoN2GlGAh"
   },
   "source": [
    "# Travail à effectuer\n",
    "\n",
    "Votre travail consiste à implémenter deux fonctionnalités:\n",
    "\n",
    "1.   Écrire une fonction qui prend un automate fini en entrée et qui renvoie un booléen pour indiquer si, oui ou non, l'automate est déterministe\n",
    "\n",
    "2.   Écrire une fonction qui prend un automate fini déterministe et un mot en entrée, et qui renvoie un booléen pour indiquer si, oui ou non, le mot est reconnu par l'automate\n",
    "\n",
    "De plus, vous devez écrire un script/programme qui prend en entrée (`sys.argv`) deux arguments: un fichier texte contenant un automate et un mot à reconnaître, dans cet ordre. Le script doit :\n",
    "\n",
    "1.   Charger l'automate depuis le fichier texte (à l'aide de la bibliothèque fournie)\n",
    "\n",
    "2.   Vérifier si l'automate est déterministe (fonctionnalité 1 ci-dessus) et, sinon, afficher _ERROR_\n",
    "\n",
    "3.   Si l'automate est déterministe, vérifier s'il reconnaît le mot (fonctionnalité 2 ci-dessus) et afficher _YES_ si le mot est reconnu, _NO_ sinon\n",
    "\n",
    "Quelques fichiers de test vous sont fournis dans le dossier `test`. Voici quelques exemples d'exécution pour votre programme (supposons qu'il s'appelle `tp1-automates.py` - squelette fourni):\n",
    "%\n",
    "```bash\n",
    "$ ./tp1-automates.py test/astarbstar.af a\n",
    "YES\n",
    "$ ./tp1-automates.py test/astarbstar.af b\n",
    "YES\n",
    "$ ./tp1-automates.py test/astarbstar.af bbb\n",
    "YES\n",
    "$ ./tp1-automates.py test/astarbstar.af %\n",
    "YES\n",
    "$ ./tp1-automates.py test/astarbstar.af aaaaaaa\n",
    "YES\n",
    "$ ./tp1-automates.py test/astarbstar.af bbaa\n",
    "NO\n",
    "$ ./tp1-automates.py test/astarbstar.af aba\n",
    "NO\n",
    "$ ./tp1-automates.py test/astarbstar.af aabbb\n",
    "NO\n",
    "$ ./tp1-automates.py test/astarbstar.af abc\n",
    "NO\n",
    "$ ./tp1-automates.py test/astarbstar-epsilon.af abb\n",
    "ERROR\n",
    "$ ./tp1-automates.py test/astarbstar-nfa.af abb\n",
    "ERROR\n",
    "```\n",
    "\n",
    "Vous devez non seulement implémenter la fonction mais aussi la tester. Pour cela, écrivez 3 automates finis au format textuel pour étendre la base de tests au délà des deux fichiers fournis. Vous pouvez utiliser des automates vus en cours ou en TD. Ces automates doivent être placés dans le dossier `test` et formeront votre base de tests, qui grandira au fur et à mesure des TPs. Vous pouvez générer les `.pdf` correspondants à chaque automate test à l'aide de la fonction `to_graphviz()`\n",
    "\n",
    "Pour déboguer votre programme, n'oubliez pas que vous pouvez à tout moment appeler `print(a)` pour afficher l'automate sur le termina, ou appeler `a.to_graphviz(\"out.pdf\")` pour le visualiser graphiquement dans un fichier `out.pdf`. En python, vous pouvez/devez aussi utiliser la bibliothèque `pdb` pour le débogage, et vous pouvez aussi typer votre programme et vérifier les types à l'aide de `mypy`."
   ]
  },
  {
   "cell_type": "code",
   "execution_count": 9,
   "metadata": {},
   "outputs": [
    {
     "name": "stdout",
     "output_type": "stream",
     "text": [
      "hasAcceptState:\n",
      "True\n",
      "hasEpsilon:\n",
      "True\n",
      "has a unique transition:\n",
      "False\n",
      "is deterministic:\n",
      "False\n"
     ]
    }
   ],
   "source": [
    "import automaton\n",
    "\n",
    "def isDeterministic(automaton : automaton.Automaton):\n",
    "\n",
    "    return hasAcceptState(automaton) and not hasEpsilon(automaton) and hasUniqueTransition(automaton)\n",
    "\n",
    "\n",
    "\n",
    "def hasAcceptState(automaton : automaton.Automaton):\n",
    "    return len(automaton.acceptstates) > 0\n",
    "\n",
    "\n",
    "def hasEpsilon(automaton : automaton.Automaton):\n",
    "        return \"%\" in automaton.alphabet\n",
    "\n",
    "\n",
    "def hasUniqueTransition(automaton :automaton.Automaton):\n",
    "    for state in automaton.statesdict.values():\n",
    "        for symbol in state.transitions:\n",
    "            if len(list(automaton.statesdict[str(state)].transitions[str(symbol)])) > 1:\n",
    "                return False\n",
    "    return True\n",
    "\n",
    "\n",
    "#########################################################################################################\n",
    "\n",
    "#tests\n",
    "source = \"\"\"0 % 1\n",
    "0 % 2\n",
    "1 a 1\n",
    "2 b 2\n",
    "A 0 1 2\n",
    "\"\"\"\n",
    "automate = automaton.Automaton(\"automate\")\n",
    "automate.from_txt(source)\n",
    "\n",
    "print(\"hasAcceptState:\")\n",
    "print(hasAcceptState(automate))\n",
    "\n",
    "print(\"hasEpsilon:\")\n",
    "print(hasEpsilon(automate))\n",
    "\n",
    "print(\"has a unique transition:\")\n",
    "print(hasUniqueTransition(automate))\n",
    "\n",
    "print(\"is deterministic:\")\n",
    "print(isDeterministic(automate))\n"
   ]
  }
 ],
 "metadata": {
  "colab": {
   "collapsed_sections": [],
   "name": "Automates_TP1 ",
   "provenance": [],
   "toc_visible": true
  },
  "kernelspec": {
   "display_name": "Python 3",
   "language": "python",
   "name": "python3"
  },
  "language_info": {
   "codemirror_mode": {
    "name": "ipython",
    "version": 3
   },
   "file_extension": ".py",
   "mimetype": "text/x-python",
   "name": "python",
   "nbconvert_exporter": "python",
   "pygments_lexer": "ipython3",
   "version": "3.8.5"
  }
 },
 "nbformat": 4,
 "nbformat_minor": 1
}